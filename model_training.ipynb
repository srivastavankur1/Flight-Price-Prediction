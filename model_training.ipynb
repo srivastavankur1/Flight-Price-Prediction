{
 "cells": [
  {
   "cell_type": "markdown",
   "metadata": {},
   "source": [
    "importing libraries"
   ]
  },
  {
   "cell_type": "code",
   "execution_count": 26,
   "metadata": {},
   "outputs": [],
   "source": [
    "import numpy as np\n",
    "import pandas as pd\n",
    "import sklearn\n",
    "import joblib\n",
    "import matplotlib.pyplot as plt\n",
    "from sklearn.impute import SimpleImputer\n",
    "from sklearn.preprocessing import StandardScaler, OneHotEncoder\n",
    "from sklearn.pipeline import Pipeline\n",
    "from sklearn.compose import ColumnTransformer\n",
    "from feature_engine.datetime import DatetimeFeatures\n",
    "from sklearn.linear_model import LinearRegression\n",
    "from sklearn.svm import SVR\n",
    "from sklearn.ensemble import RandomForestRegressor\n",
    "from sklearn.metrics import r2_score\n",
    "from sklearn.model_selection import learning_curve \n",
    "from xgboost import XGBRegressor"
   ]
  },
  {
   "cell_type": "code",
   "execution_count": 2,
   "metadata": {},
   "outputs": [],
   "source": [
    "#Display setting\n",
    "\n",
    "pd.set_option(\"display.max_columns\", None)"
   ]
  },
  {
   "cell_type": "code",
   "execution_count": 3,
   "metadata": {},
   "outputs": [],
   "source": [
    "#get the data\n",
    "train_df=pd.read_csv(\"data/train.csv\")\n",
    "test_df=pd.read_csv(\"data/test.csv\")\n",
    "val_df=pd.read_csv(\"data/val.csv\")"
   ]
  },
  {
   "cell_type": "code",
   "execution_count": 4,
   "metadata": {},
   "outputs": [],
   "source": [
    "#split the data\n",
    "def split_data(data):\n",
    "    X= data.drop(columns=\"price\")\n",
    "    Y=data.price.copy()\n",
    "    return (X,Y)"
   ]
  },
  {
   "cell_type": "code",
   "execution_count": 5,
   "metadata": {},
   "outputs": [],
   "source": [
    "X_train, Y_train = split_data(train_df)"
   ]
  },
  {
   "cell_type": "code",
   "execution_count": 6,
   "metadata": {},
   "outputs": [
    {
     "data": {
      "text/html": [
       "<div>\n",
       "<style scoped>\n",
       "    .dataframe tbody tr th:only-of-type {\n",
       "        vertical-align: middle;\n",
       "    }\n",
       "\n",
       "    .dataframe tbody tr th {\n",
       "        vertical-align: top;\n",
       "    }\n",
       "\n",
       "    .dataframe thead th {\n",
       "        text-align: right;\n",
       "    }\n",
       "</style>\n",
       "<table border=\"1\" class=\"dataframe\">\n",
       "  <thead>\n",
       "    <tr style=\"text-align: right;\">\n",
       "      <th></th>\n",
       "      <th>airline</th>\n",
       "      <th>date_of_journey</th>\n",
       "      <th>source</th>\n",
       "      <th>destination</th>\n",
       "      <th>dep_time</th>\n",
       "      <th>arrival_time</th>\n",
       "      <th>duration</th>\n",
       "      <th>total_stops</th>\n",
       "      <th>additional_info</th>\n",
       "    </tr>\n",
       "  </thead>\n",
       "  <tbody>\n",
       "    <tr>\n",
       "      <th>0</th>\n",
       "      <td>Jet Airways</td>\n",
       "      <td>2019-06-21</td>\n",
       "      <td>Mumbai</td>\n",
       "      <td>Hyderabad</td>\n",
       "      <td>10:20:00</td>\n",
       "      <td>11:50:00</td>\n",
       "      <td>90</td>\n",
       "      <td>0.0</td>\n",
       "      <td>In-flight meal not included</td>\n",
       "    </tr>\n",
       "    <tr>\n",
       "      <th>1</th>\n",
       "      <td>Air India</td>\n",
       "      <td>2019-05-18</td>\n",
       "      <td>Delhi</td>\n",
       "      <td>Cochin</td>\n",
       "      <td>09:00:00</td>\n",
       "      <td>07:40:00</td>\n",
       "      <td>1360</td>\n",
       "      <td>1.0</td>\n",
       "      <td>No Info</td>\n",
       "    </tr>\n",
       "    <tr>\n",
       "      <th>2</th>\n",
       "      <td>Air India</td>\n",
       "      <td>2019-06-12</td>\n",
       "      <td>Kolkata</td>\n",
       "      <td>Banglore</td>\n",
       "      <td>09:10:00</td>\n",
       "      <td>11:05:00</td>\n",
       "      <td>1555</td>\n",
       "      <td>2.0</td>\n",
       "      <td>No Info</td>\n",
       "    </tr>\n",
       "    <tr>\n",
       "      <th>3</th>\n",
       "      <td>Vistara</td>\n",
       "      <td>2019-04-01</td>\n",
       "      <td>Kolkata</td>\n",
       "      <td>Banglore</td>\n",
       "      <td>20:20:00</td>\n",
       "      <td>22:55:00</td>\n",
       "      <td>1595</td>\n",
       "      <td>1.0</td>\n",
       "      <td>No Info</td>\n",
       "    </tr>\n",
       "    <tr>\n",
       "      <th>4</th>\n",
       "      <td>Vistara</td>\n",
       "      <td>2019-06-06</td>\n",
       "      <td>Kolkata</td>\n",
       "      <td>Banglore</td>\n",
       "      <td>17:00:00</td>\n",
       "      <td>10:45:00</td>\n",
       "      <td>1065</td>\n",
       "      <td>1.0</td>\n",
       "      <td>No Info</td>\n",
       "    </tr>\n",
       "    <tr>\n",
       "      <th>...</th>\n",
       "      <td>...</td>\n",
       "      <td>...</td>\n",
       "      <td>...</td>\n",
       "      <td>...</td>\n",
       "      <td>...</td>\n",
       "      <td>...</td>\n",
       "      <td>...</td>\n",
       "      <td>...</td>\n",
       "      <td>...</td>\n",
       "    </tr>\n",
       "    <tr>\n",
       "      <th>635</th>\n",
       "      <td>Air Asia</td>\n",
       "      <td>2019-04-12</td>\n",
       "      <td>Banglore</td>\n",
       "      <td>Delhi</td>\n",
       "      <td>04:55:00</td>\n",
       "      <td>07:45:00</td>\n",
       "      <td>170</td>\n",
       "      <td>0.0</td>\n",
       "      <td>No Info</td>\n",
       "    </tr>\n",
       "    <tr>\n",
       "      <th>636</th>\n",
       "      <td>Jet Airways</td>\n",
       "      <td>2019-05-09</td>\n",
       "      <td>Kolkata</td>\n",
       "      <td>Banglore</td>\n",
       "      <td>09:35:00</td>\n",
       "      <td>21:05:00</td>\n",
       "      <td>690</td>\n",
       "      <td>1.0</td>\n",
       "      <td>No Info</td>\n",
       "    </tr>\n",
       "    <tr>\n",
       "      <th>637</th>\n",
       "      <td>Indigo</td>\n",
       "      <td>2019-05-15</td>\n",
       "      <td>Banglore</td>\n",
       "      <td>Delhi</td>\n",
       "      <td>06:05:00</td>\n",
       "      <td>08:50:00</td>\n",
       "      <td>165</td>\n",
       "      <td>0.0</td>\n",
       "      <td>No Info</td>\n",
       "    </tr>\n",
       "    <tr>\n",
       "      <th>638</th>\n",
       "      <td>Multiple Carriers</td>\n",
       "      <td>2019-05-15</td>\n",
       "      <td>Delhi</td>\n",
       "      <td>Cochin</td>\n",
       "      <td>08:45:00</td>\n",
       "      <td>21:00:00</td>\n",
       "      <td>735</td>\n",
       "      <td>1.0</td>\n",
       "      <td>No Info</td>\n",
       "    </tr>\n",
       "    <tr>\n",
       "      <th>639</th>\n",
       "      <td>Jet Airways</td>\n",
       "      <td>2019-05-21</td>\n",
       "      <td>Kolkata</td>\n",
       "      <td>Banglore</td>\n",
       "      <td>20:00:00</td>\n",
       "      <td>12:00:00</td>\n",
       "      <td>960</td>\n",
       "      <td>1.0</td>\n",
       "      <td>In-flight meal not included</td>\n",
       "    </tr>\n",
       "  </tbody>\n",
       "</table>\n",
       "<p>640 rows × 9 columns</p>\n",
       "</div>"
      ],
      "text/plain": [
       "               airline date_of_journey    source destination  dep_time  \\\n",
       "0          Jet Airways      2019-06-21    Mumbai   Hyderabad  10:20:00   \n",
       "1            Air India      2019-05-18     Delhi      Cochin  09:00:00   \n",
       "2            Air India      2019-06-12   Kolkata    Banglore  09:10:00   \n",
       "3              Vistara      2019-04-01   Kolkata    Banglore  20:20:00   \n",
       "4              Vistara      2019-06-06   Kolkata    Banglore  17:00:00   \n",
       "..                 ...             ...       ...         ...       ...   \n",
       "635           Air Asia      2019-04-12  Banglore       Delhi  04:55:00   \n",
       "636        Jet Airways      2019-05-09   Kolkata    Banglore  09:35:00   \n",
       "637             Indigo      2019-05-15  Banglore       Delhi  06:05:00   \n",
       "638  Multiple Carriers      2019-05-15     Delhi      Cochin  08:45:00   \n",
       "639        Jet Airways      2019-05-21   Kolkata    Banglore  20:00:00   \n",
       "\n",
       "    arrival_time  duration  total_stops              additional_info  \n",
       "0       11:50:00        90          0.0  In-flight meal not included  \n",
       "1       07:40:00      1360          1.0                      No Info  \n",
       "2       11:05:00      1555          2.0                      No Info  \n",
       "3       22:55:00      1595          1.0                      No Info  \n",
       "4       10:45:00      1065          1.0                      No Info  \n",
       "..           ...       ...          ...                          ...  \n",
       "635     07:45:00       170          0.0                      No Info  \n",
       "636     21:05:00       690          1.0                      No Info  \n",
       "637     08:50:00       165          0.0                      No Info  \n",
       "638     21:00:00       735          1.0                      No Info  \n",
       "639     12:00:00       960          1.0  In-flight meal not included  \n",
       "\n",
       "[640 rows x 9 columns]"
      ]
     },
     "execution_count": 6,
     "metadata": {},
     "output_type": "execute_result"
    }
   ],
   "source": [
    "X_train"
   ]
  },
  {
   "cell_type": "code",
   "execution_count": 7,
   "metadata": {},
   "outputs": [
    {
     "data": {
      "text/plain": [
       "0       4995\n",
       "1       8372\n",
       "2       6117\n",
       "3       7770\n",
       "4       9187\n",
       "       ...  \n",
       "635     4282\n",
       "636    13067\n",
       "637     4423\n",
       "638     7670\n",
       "639    10844\n",
       "Name: price, Length: 640, dtype: int64"
      ]
     },
     "execution_count": 7,
     "metadata": {},
     "output_type": "execute_result"
    }
   ],
   "source": [
    "Y_train"
   ]
  },
  {
   "cell_type": "code",
   "execution_count": 8,
   "metadata": {},
   "outputs": [],
   "source": [
    "X_test, Y_test = split_data(test_df)"
   ]
  },
  {
   "cell_type": "code",
   "execution_count": 9,
   "metadata": {},
   "outputs": [
    {
     "data": {
      "text/html": [
       "<div>\n",
       "<style scoped>\n",
       "    .dataframe tbody tr th:only-of-type {\n",
       "        vertical-align: middle;\n",
       "    }\n",
       "\n",
       "    .dataframe tbody tr th {\n",
       "        vertical-align: top;\n",
       "    }\n",
       "\n",
       "    .dataframe thead th {\n",
       "        text-align: right;\n",
       "    }\n",
       "</style>\n",
       "<table border=\"1\" class=\"dataframe\">\n",
       "  <thead>\n",
       "    <tr style=\"text-align: right;\">\n",
       "      <th></th>\n",
       "      <th>airline</th>\n",
       "      <th>date_of_journey</th>\n",
       "      <th>source</th>\n",
       "      <th>destination</th>\n",
       "      <th>dep_time</th>\n",
       "      <th>arrival_time</th>\n",
       "      <th>duration</th>\n",
       "      <th>total_stops</th>\n",
       "      <th>additional_info</th>\n",
       "    </tr>\n",
       "  </thead>\n",
       "  <tbody>\n",
       "    <tr>\n",
       "      <th>0</th>\n",
       "      <td>Multiple Carriers</td>\n",
       "      <td>2019-03-03</td>\n",
       "      <td>Delhi</td>\n",
       "      <td>Cochin</td>\n",
       "      <td>18:15:00</td>\n",
       "      <td>01:35:00</td>\n",
       "      <td>440</td>\n",
       "      <td>1.0</td>\n",
       "      <td>No Info</td>\n",
       "    </tr>\n",
       "    <tr>\n",
       "      <th>1</th>\n",
       "      <td>Jet Airways</td>\n",
       "      <td>2019-06-01</td>\n",
       "      <td>Delhi</td>\n",
       "      <td>Cochin</td>\n",
       "      <td>20:55:00</td>\n",
       "      <td>12:35:00</td>\n",
       "      <td>940</td>\n",
       "      <td>1.0</td>\n",
       "      <td>In-flight meal not included</td>\n",
       "    </tr>\n",
       "    <tr>\n",
       "      <th>2</th>\n",
       "      <td>Multiple Carriers</td>\n",
       "      <td>2019-06-06</td>\n",
       "      <td>Delhi</td>\n",
       "      <td>Cochin</td>\n",
       "      <td>07:05:00</td>\n",
       "      <td>16:10:00</td>\n",
       "      <td>545</td>\n",
       "      <td>1.0</td>\n",
       "      <td>No Info</td>\n",
       "    </tr>\n",
       "    <tr>\n",
       "      <th>3</th>\n",
       "      <td>Air India</td>\n",
       "      <td>2019-03-24</td>\n",
       "      <td>Kolkata</td>\n",
       "      <td>Banglore</td>\n",
       "      <td>16:50:00</td>\n",
       "      <td>18:30:00</td>\n",
       "      <td>1540</td>\n",
       "      <td>1.0</td>\n",
       "      <td>No Info</td>\n",
       "    </tr>\n",
       "    <tr>\n",
       "      <th>4</th>\n",
       "      <td>Multiple Carriers</td>\n",
       "      <td>2019-05-27</td>\n",
       "      <td>Delhi</td>\n",
       "      <td>Cochin</td>\n",
       "      <td>10:20:00</td>\n",
       "      <td>19:00:00</td>\n",
       "      <td>520</td>\n",
       "      <td>1.0</td>\n",
       "      <td>No Info</td>\n",
       "    </tr>\n",
       "    <tr>\n",
       "      <th>...</th>\n",
       "      <td>...</td>\n",
       "      <td>...</td>\n",
       "      <td>...</td>\n",
       "      <td>...</td>\n",
       "      <td>...</td>\n",
       "      <td>...</td>\n",
       "      <td>...</td>\n",
       "      <td>...</td>\n",
       "      <td>...</td>\n",
       "    </tr>\n",
       "    <tr>\n",
       "      <th>195</th>\n",
       "      <td>Spicejet</td>\n",
       "      <td>2019-04-21</td>\n",
       "      <td>Kolkata</td>\n",
       "      <td>Banglore</td>\n",
       "      <td>06:55:00</td>\n",
       "      <td>09:30:00</td>\n",
       "      <td>155</td>\n",
       "      <td>0.0</td>\n",
       "      <td>No Info</td>\n",
       "    </tr>\n",
       "    <tr>\n",
       "      <th>196</th>\n",
       "      <td>Multiple Carriers</td>\n",
       "      <td>2019-06-01</td>\n",
       "      <td>Delhi</td>\n",
       "      <td>Cochin</td>\n",
       "      <td>11:40:00</td>\n",
       "      <td>19:15:00</td>\n",
       "      <td>455</td>\n",
       "      <td>1.0</td>\n",
       "      <td>No Info</td>\n",
       "    </tr>\n",
       "    <tr>\n",
       "      <th>197</th>\n",
       "      <td>Indigo</td>\n",
       "      <td>2019-03-21</td>\n",
       "      <td>Mumbai</td>\n",
       "      <td>Hyderabad</td>\n",
       "      <td>21:20:00</td>\n",
       "      <td>22:45:00</td>\n",
       "      <td>85</td>\n",
       "      <td>0.0</td>\n",
       "      <td>No Info</td>\n",
       "    </tr>\n",
       "    <tr>\n",
       "      <th>198</th>\n",
       "      <td>Jet Airways</td>\n",
       "      <td>2019-06-03</td>\n",
       "      <td>Delhi</td>\n",
       "      <td>Cochin</td>\n",
       "      <td>16:00:00</td>\n",
       "      <td>12:35:00</td>\n",
       "      <td>1235</td>\n",
       "      <td>1.0</td>\n",
       "      <td>In-flight meal not included</td>\n",
       "    </tr>\n",
       "    <tr>\n",
       "      <th>199</th>\n",
       "      <td>Indigo</td>\n",
       "      <td>2019-03-15</td>\n",
       "      <td>Mumbai</td>\n",
       "      <td>Hyderabad</td>\n",
       "      <td>09:10:00</td>\n",
       "      <td>10:40:00</td>\n",
       "      <td>90</td>\n",
       "      <td>0.0</td>\n",
       "      <td>No Info</td>\n",
       "    </tr>\n",
       "  </tbody>\n",
       "</table>\n",
       "<p>200 rows × 9 columns</p>\n",
       "</div>"
      ],
      "text/plain": [
       "               airline date_of_journey   source destination  dep_time  \\\n",
       "0    Multiple Carriers      2019-03-03    Delhi      Cochin  18:15:00   \n",
       "1          Jet Airways      2019-06-01    Delhi      Cochin  20:55:00   \n",
       "2    Multiple Carriers      2019-06-06    Delhi      Cochin  07:05:00   \n",
       "3            Air India      2019-03-24  Kolkata    Banglore  16:50:00   \n",
       "4    Multiple Carriers      2019-05-27    Delhi      Cochin  10:20:00   \n",
       "..                 ...             ...      ...         ...       ...   \n",
       "195           Spicejet      2019-04-21  Kolkata    Banglore  06:55:00   \n",
       "196  Multiple Carriers      2019-06-01    Delhi      Cochin  11:40:00   \n",
       "197             Indigo      2019-03-21   Mumbai   Hyderabad  21:20:00   \n",
       "198        Jet Airways      2019-06-03    Delhi      Cochin  16:00:00   \n",
       "199             Indigo      2019-03-15   Mumbai   Hyderabad  09:10:00   \n",
       "\n",
       "    arrival_time  duration  total_stops              additional_info  \n",
       "0       01:35:00       440          1.0                      No Info  \n",
       "1       12:35:00       940          1.0  In-flight meal not included  \n",
       "2       16:10:00       545          1.0                      No Info  \n",
       "3       18:30:00      1540          1.0                      No Info  \n",
       "4       19:00:00       520          1.0                      No Info  \n",
       "..           ...       ...          ...                          ...  \n",
       "195     09:30:00       155          0.0                      No Info  \n",
       "196     19:15:00       455          1.0                      No Info  \n",
       "197     22:45:00        85          0.0                      No Info  \n",
       "198     12:35:00      1235          1.0  In-flight meal not included  \n",
       "199     10:40:00        90          0.0                      No Info  \n",
       "\n",
       "[200 rows x 9 columns]"
      ]
     },
     "execution_count": 9,
     "metadata": {},
     "output_type": "execute_result"
    }
   ],
   "source": [
    "X_test"
   ]
  },
  {
   "cell_type": "code",
   "execution_count": 10,
   "metadata": {},
   "outputs": [
    {
     "data": {
      "text/plain": [
       "0      18916\n",
       "1      10262\n",
       "2       9646\n",
       "3      14641\n",
       "4       9794\n",
       "       ...  \n",
       "195     4174\n",
       "196    10261\n",
       "197     2227\n",
       "198    10262\n",
       "199     4049\n",
       "Name: price, Length: 200, dtype: int64"
      ]
     },
     "execution_count": 10,
     "metadata": {},
     "output_type": "execute_result"
    }
   ],
   "source": [
    "Y_test"
   ]
  },
  {
   "cell_type": "code",
   "execution_count": 11,
   "metadata": {},
   "outputs": [],
   "source": [
    "X_val, Y_val = split_data(val_df)"
   ]
  },
  {
   "cell_type": "code",
   "execution_count": 12,
   "metadata": {},
   "outputs": [
    {
     "data": {
      "text/html": [
       "<div>\n",
       "<style scoped>\n",
       "    .dataframe tbody tr th:only-of-type {\n",
       "        vertical-align: middle;\n",
       "    }\n",
       "\n",
       "    .dataframe tbody tr th {\n",
       "        vertical-align: top;\n",
       "    }\n",
       "\n",
       "    .dataframe thead th {\n",
       "        text-align: right;\n",
       "    }\n",
       "</style>\n",
       "<table border=\"1\" class=\"dataframe\">\n",
       "  <thead>\n",
       "    <tr style=\"text-align: right;\">\n",
       "      <th></th>\n",
       "      <th>airline</th>\n",
       "      <th>date_of_journey</th>\n",
       "      <th>source</th>\n",
       "      <th>destination</th>\n",
       "      <th>dep_time</th>\n",
       "      <th>arrival_time</th>\n",
       "      <th>duration</th>\n",
       "      <th>total_stops</th>\n",
       "      <th>additional_info</th>\n",
       "    </tr>\n",
       "  </thead>\n",
       "  <tbody>\n",
       "    <tr>\n",
       "      <th>0</th>\n",
       "      <td>Air India</td>\n",
       "      <td>2019-06-01</td>\n",
       "      <td>Delhi</td>\n",
       "      <td>Cochin</td>\n",
       "      <td>05:15:00</td>\n",
       "      <td>19:15:00</td>\n",
       "      <td>2280</td>\n",
       "      <td>3.0</td>\n",
       "      <td>No Info</td>\n",
       "    </tr>\n",
       "    <tr>\n",
       "      <th>1</th>\n",
       "      <td>Air India</td>\n",
       "      <td>2019-03-03</td>\n",
       "      <td>Delhi</td>\n",
       "      <td>Cochin</td>\n",
       "      <td>20:00:00</td>\n",
       "      <td>19:15:00</td>\n",
       "      <td>1395</td>\n",
       "      <td>2.0</td>\n",
       "      <td>No Info</td>\n",
       "    </tr>\n",
       "    <tr>\n",
       "      <th>2</th>\n",
       "      <td>Air India</td>\n",
       "      <td>2019-03-06</td>\n",
       "      <td>Mumbai</td>\n",
       "      <td>Hyderabad</td>\n",
       "      <td>05:55:00</td>\n",
       "      <td>22:00:00</td>\n",
       "      <td>965</td>\n",
       "      <td>1.0</td>\n",
       "      <td>No Info</td>\n",
       "    </tr>\n",
       "    <tr>\n",
       "      <th>3</th>\n",
       "      <td>Goair</td>\n",
       "      <td>2019-06-09</td>\n",
       "      <td>Kolkata</td>\n",
       "      <td>Banglore</td>\n",
       "      <td>16:40:00</td>\n",
       "      <td>00:15:00</td>\n",
       "      <td>455</td>\n",
       "      <td>1.0</td>\n",
       "      <td>No Info</td>\n",
       "    </tr>\n",
       "    <tr>\n",
       "      <th>4</th>\n",
       "      <td>Jet Airways</td>\n",
       "      <td>2019-06-03</td>\n",
       "      <td>Delhi</td>\n",
       "      <td>Cochin</td>\n",
       "      <td>20:55:00</td>\n",
       "      <td>19:00:00</td>\n",
       "      <td>1325</td>\n",
       "      <td>1.0</td>\n",
       "      <td>No Info</td>\n",
       "    </tr>\n",
       "    <tr>\n",
       "      <th>...</th>\n",
       "      <td>...</td>\n",
       "      <td>...</td>\n",
       "      <td>...</td>\n",
       "      <td>...</td>\n",
       "      <td>...</td>\n",
       "      <td>...</td>\n",
       "      <td>...</td>\n",
       "      <td>...</td>\n",
       "      <td>...</td>\n",
       "    </tr>\n",
       "    <tr>\n",
       "      <th>155</th>\n",
       "      <td>Spicejet</td>\n",
       "      <td>2019-04-03</td>\n",
       "      <td>Delhi</td>\n",
       "      <td>Cochin</td>\n",
       "      <td>08:45:00</td>\n",
       "      <td>13:15:00</td>\n",
       "      <td>270</td>\n",
       "      <td>1.0</td>\n",
       "      <td>No check-in baggage included</td>\n",
       "    </tr>\n",
       "    <tr>\n",
       "      <th>156</th>\n",
       "      <td>Spicejet</td>\n",
       "      <td>2019-03-01</td>\n",
       "      <td>Mumbai</td>\n",
       "      <td>Hyderabad</td>\n",
       "      <td>05:45:00</td>\n",
       "      <td>07:05:00</td>\n",
       "      <td>80</td>\n",
       "      <td>0.0</td>\n",
       "      <td>No Info</td>\n",
       "    </tr>\n",
       "    <tr>\n",
       "      <th>157</th>\n",
       "      <td>Multiple Carriers</td>\n",
       "      <td>2019-05-18</td>\n",
       "      <td>Delhi</td>\n",
       "      <td>Cochin</td>\n",
       "      <td>03:50:00</td>\n",
       "      <td>12:35:00</td>\n",
       "      <td>525</td>\n",
       "      <td>1.0</td>\n",
       "      <td>No Info</td>\n",
       "    </tr>\n",
       "    <tr>\n",
       "      <th>158</th>\n",
       "      <td>Jet Airways</td>\n",
       "      <td>2019-03-01</td>\n",
       "      <td>Banglore</td>\n",
       "      <td>New Delhi</td>\n",
       "      <td>22:50:00</td>\n",
       "      <td>00:45:00</td>\n",
       "      <td>1555</td>\n",
       "      <td>1.0</td>\n",
       "      <td>No Info</td>\n",
       "    </tr>\n",
       "    <tr>\n",
       "      <th>159</th>\n",
       "      <td>Indigo</td>\n",
       "      <td>2019-04-18</td>\n",
       "      <td>Banglore</td>\n",
       "      <td>Delhi</td>\n",
       "      <td>18:25:00</td>\n",
       "      <td>21:20:00</td>\n",
       "      <td>175</td>\n",
       "      <td>0.0</td>\n",
       "      <td>No Info</td>\n",
       "    </tr>\n",
       "  </tbody>\n",
       "</table>\n",
       "<p>160 rows × 9 columns</p>\n",
       "</div>"
      ],
      "text/plain": [
       "               airline date_of_journey    source destination  dep_time  \\\n",
       "0            Air India      2019-06-01     Delhi      Cochin  05:15:00   \n",
       "1            Air India      2019-03-03     Delhi      Cochin  20:00:00   \n",
       "2            Air India      2019-03-06    Mumbai   Hyderabad  05:55:00   \n",
       "3                Goair      2019-06-09   Kolkata    Banglore  16:40:00   \n",
       "4          Jet Airways      2019-06-03     Delhi      Cochin  20:55:00   \n",
       "..                 ...             ...       ...         ...       ...   \n",
       "155           Spicejet      2019-04-03     Delhi      Cochin  08:45:00   \n",
       "156           Spicejet      2019-03-01    Mumbai   Hyderabad  05:45:00   \n",
       "157  Multiple Carriers      2019-05-18     Delhi      Cochin  03:50:00   \n",
       "158        Jet Airways      2019-03-01  Banglore   New Delhi  22:50:00   \n",
       "159             Indigo      2019-04-18  Banglore       Delhi  18:25:00   \n",
       "\n",
       "    arrival_time  duration  total_stops               additional_info  \n",
       "0       19:15:00      2280          3.0                       No Info  \n",
       "1       19:15:00      1395          2.0                       No Info  \n",
       "2       22:00:00       965          1.0                       No Info  \n",
       "3       00:15:00       455          1.0                       No Info  \n",
       "4       19:00:00      1325          1.0                       No Info  \n",
       "..           ...       ...          ...                           ...  \n",
       "155     13:15:00       270          1.0  No check-in baggage included  \n",
       "156     07:05:00        80          0.0                       No Info  \n",
       "157     12:35:00       525          1.0                       No Info  \n",
       "158     00:45:00      1555          1.0                       No Info  \n",
       "159     21:20:00       175          0.0                       No Info  \n",
       "\n",
       "[160 rows x 9 columns]"
      ]
     },
     "execution_count": 12,
     "metadata": {},
     "output_type": "execute_result"
    }
   ],
   "source": [
    "X_val"
   ]
  },
  {
   "cell_type": "code",
   "execution_count": 13,
   "metadata": {},
   "outputs": [
    {
     "data": {
      "text/plain": [
       "0      10703\n",
       "1      17266\n",
       "2      10366\n",
       "3       9495\n",
       "4      14714\n",
       "       ...  \n",
       "155     4098\n",
       "156    12475\n",
       "157    10197\n",
       "158    26890\n",
       "159     4990\n",
       "Name: price, Length: 160, dtype: int64"
      ]
     },
     "execution_count": 13,
     "metadata": {},
     "output_type": "execute_result"
    }
   ],
   "source": [
    "Y_val"
   ]
  },
  {
   "cell_type": "code",
   "execution_count": 14,
   "metadata": {},
   "outputs": [
    {
     "name": "stdout",
     "output_type": "stream",
     "text": [
      "(640, 9) (640,)\n",
      "(200, 9) (200,)\n",
      "(160, 9) (160,)\n"
     ]
    }
   ],
   "source": [
    "print(X_train.shape, Y_train.shape)\n",
    "print(X_test.shape, Y_test.shape)\n",
    "print(X_val.shape, Y_val.shape)"
   ]
  },
  {
   "cell_type": "code",
   "execution_count": 15,
   "metadata": {},
   "outputs": [
    {
     "name": "stdout",
     "output_type": "stream",
     "text": [
      "<class 'pandas.core.frame.DataFrame'>\n",
      "RangeIndex: 640 entries, 0 to 639\n",
      "Data columns (total 9 columns):\n",
      " #   Column           Non-Null Count  Dtype  \n",
      "---  ------           --------------  -----  \n",
      " 0   airline          640 non-null    object \n",
      " 1   date_of_journey  640 non-null    object \n",
      " 2   source           640 non-null    object \n",
      " 3   destination      640 non-null    object \n",
      " 4   dep_time         640 non-null    object \n",
      " 5   arrival_time     640 non-null    object \n",
      " 6   duration         640 non-null    int64  \n",
      " 7   total_stops      640 non-null    float64\n",
      " 8   additional_info  640 non-null    object \n",
      "dtypes: float64(1), int64(1), object(7)\n",
      "memory usage: 45.1+ KB\n"
     ]
    }
   ],
   "source": [
    "#meta info\n",
    "X_train.info()"
   ]
  },
  {
   "cell_type": "code",
   "execution_count": 17,
   "metadata": {},
   "outputs": [],
   "source": [
    "#data preprocessing"
   ]
  },
  {
   "cell_type": "code",
   "execution_count": 16,
   "metadata": {},
   "outputs": [],
   "source": [
    "dt_cols = [\"date_of_journey\", \"dep_time\", \"arrival_time\"]\n",
    "\n",
    "num_cols = [\"duration\", \"total_stops\"]\n",
    "\n",
    "cat_cols = [col for col in X_train.columns if (col not in dt_cols) and (col not in num_cols)]"
   ]
  },
  {
   "cell_type": "code",
   "execution_count": 17,
   "metadata": {},
   "outputs": [
    {
     "data": {
      "text/plain": [
       "['airline', 'source', 'destination', 'additional_info']"
      ]
     },
     "execution_count": 17,
     "metadata": {},
     "output_type": "execute_result"
    }
   ],
   "source": [
    "cat_cols"
   ]
  },
  {
   "cell_type": "code",
   "execution_count": 18,
   "metadata": {},
   "outputs": [],
   "source": [
    "num_transformer = Pipeline(steps=[\n",
    "\t(\"imputer\", SimpleImputer(strategy=\"median\")),\n",
    "\t(\"scaler\", StandardScaler())\n",
    "])\n",
    "\n",
    "cat_transformer = Pipeline(steps=[\n",
    "\t(\"imputer\", SimpleImputer(strategy=\"most_frequent\")),\n",
    "\t(\"encoder\", OneHotEncoder(sparse=False, handle_unknown=\"ignore\"))\n",
    "])\n",
    "\n",
    "doj_transformer = Pipeline(steps=[\n",
    "\t(\"imputer\", SimpleImputer(strategy=\"most_frequent\")),\n",
    "\t(\"extractor\", DatetimeFeatures(features_to_extract=[\"month\", \"week\", \"day_of_week\", \"day_of_month\"])),\n",
    "\t(\"scaler\", StandardScaler())\n",
    "])\n",
    "\n",
    "time_transformer = Pipeline(steps=[\n",
    "\t(\"imputer\", SimpleImputer(strategy=\"most_frequent\")),\n",
    "\t(\"extractor\", DatetimeFeatures(features_to_extract=[\"hour\", \"minute\"])),\n",
    "\t(\"scaler\", StandardScaler())\n",
    "])"
   ]
  },
  {
   "cell_type": "code",
   "execution_count": 19,
   "metadata": {},
   "outputs": [],
   "source": [
    "preprocessor = ColumnTransformer(transformers=[\n",
    "\t(\"num\", num_transformer, num_cols),\n",
    "\t(\"cat\", cat_transformer, cat_cols),\n",
    "\t(\"doj\", doj_transformer, [\"date_of_journey\"]),\n",
    "\t(\"time\", time_transformer, [\"dep_time\", \"arrival_time\"])\n",
    "])"
   ]
  },
  {
   "cell_type": "code",
   "execution_count": 20,
   "metadata": {},
   "outputs": [
    {
     "data": {
      "text/plain": [
       "array([[-1.09591823, -1.21213152,  0.        , ..., -0.14005709,\n",
       "        -0.34523131,  1.49385907],\n",
       "       [ 1.43569944,  0.31797533,  0.        , ..., -1.22986299,\n",
       "        -0.93560684,  0.89104078],\n",
       "       [ 1.82441239,  1.84808218,  0.        , ..., -0.68496004,\n",
       "        -0.34523131, -1.21882323],\n",
       "       ...,\n",
       "       [-0.94641325, -1.21213152,  0.        , ..., -0.95741152,\n",
       "        -0.78801296,  1.49385907],\n",
       "       [ 0.18982461,  0.31797533,  0.        , ...,  1.22220029,\n",
       "         1.1307075 , -1.52023237],\n",
       "       [ 0.63833955,  0.31797533,  0.        , ..., -1.22986299,\n",
       "        -0.19763743, -1.52023237]])"
      ]
     },
     "execution_count": 20,
     "metadata": {},
     "output_type": "execute_result"
    }
   ],
   "source": [
    "preprocessor.fit_transform(X_train)"
   ]
  },
  {
   "cell_type": "code",
   "execution_count": 50,
   "metadata": {},
   "outputs": [],
   "source": [
    "#model_selection"
   ]
  },
  {
   "cell_type": "code",
   "execution_count": 21,
   "metadata": {},
   "outputs": [],
   "source": [
    "algorithms = {\n",
    "\t\"Linear Regression\": LinearRegression(),\n",
    "\t\"Support Vector Machine\": SVR(),\n",
    "\t\"Random Forest\": RandomForestRegressor(n_estimators=10),\n",
    "\t\"XG Boost\": XGBRegressor(n_estimators=10)\n",
    "}"
   ]
  },
  {
   "cell_type": "code",
   "execution_count": 22,
   "metadata": {},
   "outputs": [
    {
     "name": "stdout",
     "output_type": "stream",
     "text": [
      "(800, 9) (800,)\n"
     ]
    }
   ],
   "source": [
    "data = pd.concat([train_df, val_df], axis=0)\n",
    "\n",
    "X_data, y_data = split_data(data)\n",
    "print(X_data.shape, y_data.shape)"
   ]
  },
  {
   "cell_type": "code",
   "execution_count": 23,
   "metadata": {},
   "outputs": [],
   "source": [
    "def plot_curves(sizes, mean_scores, std_scores, label, ax):\n",
    "\tax.plot(\n",
    "\t\tsizes,\n",
    "\t\tmean_scores,\n",
    "\t\tmarker=\"o\",\n",
    "\t\tlabel=label\n",
    "\t)\n",
    "\n",
    "\tax.fill_between(\n",
    "\t\tx=sizes,\n",
    "\t\ty1=mean_scores - std_scores,\n",
    "\t\ty2=mean_scores + std_scores,\n",
    "\t\talpha=0.5\n",
    "\t)"
   ]
  },
  {
   "cell_type": "code",
   "execution_count": 27,
   "metadata": {},
   "outputs": [],
   "source": [
    "def plot_learning_curves(name, algorithm, figsize=(12, 4)):\n",
    "\tmodel = Pipeline(steps=[\n",
    "\t\t(\"pre\", preprocessor),\n",
    "\t\t(\"alg\", algorithm)\n",
    "\t])\n",
    "\n",
    "\ttrain_sizes, train_scores, test_scores = learning_curve(\n",
    "\t\testimator=model,\n",
    "\t\tX=X_data,\n",
    "\t\ty=y_data,\n",
    "\t\tcv=3,\n",
    "\t\tscoring=\"r2\",\n",
    "\t\tn_jobs=-1,\n",
    "\t\trandom_state=42\n",
    "\t)\n",
    "\t\n",
    "\tmean_train_scores = np.mean(train_scores, axis=1)\n",
    "\tstd_train_scores = np.std(train_scores, axis=1)\n",
    "\ttrain_score = f\"{mean_train_scores[-1]:.2f} +/- {std_train_scores[-1]:.2f}\"\n",
    "\n",
    "\tmean_test_scores = np.mean(test_scores, axis=1)\n",
    "\tstd_test_scores = np.std(test_scores, axis=1)\n",
    "\ttest_score = f\"{mean_test_scores[-1]:.2f} +/- {std_test_scores[-1]:.2f}\"\n",
    "\n",
    "\tfig, ax = plt.subplots(figsize=figsize)\n",
    "\n",
    "\t# training curve\n",
    "\tplot_curves(\n",
    "\t\ttrain_sizes,\n",
    "\t\tmean_train_scores,\n",
    "\t\tstd_train_scores,\n",
    "\t\tf\"Train ({train_score})\",\n",
    "\t\tax\n",
    "\t)\n",
    "\n",
    "\t# test curve\n",
    "\tplot_curves(\n",
    "\t\ttrain_sizes,\n",
    "\t\tmean_test_scores,\n",
    "\t\tstd_test_scores,\n",
    "\t\tf\"Test ({test_score})\",\n",
    "\t\tax\n",
    "\t)\n",
    "\n",
    "\tax.set(xlabel=\"Training Set Size\", ylabel=\"R-square\", title=name)\n",
    "\n",
    "\tax.legend(loc=\"lower right\")\n",
    "\n",
    "\tplt.show()\n"
   ]
  },
  {
   "cell_type": "code",
   "execution_count": 28,
   "metadata": {},
   "outputs": [
    {
     "data": {
      "image/png": "[encoded data removed]",
      "text/plain": [
       "<Figure size 864x288 with 1 Axes>"
      ]
     },
     "metadata": {
      "needs_background": "light"
     },
     "output_type": "display_data"
    },
    {
     "data": {
      "image/png": "[encoded data removed]",
      "text/plain": [
       "<Figure size 864x288 with 1 Axes>"
      ]
     },
     "metadata": {
      "needs_background": "light"
     },
     "output_type": "display_data"
    },
    {
     "data": {
      "image/png": "[encoded data removed]",
      "text/plain": [
       "<Figure size 864x288 with 1 Axes>"
      ]
     },
     "metadata": {
      "needs_background": "light"
     },
     "output_type": "display_data"
    },
    {
     "data": {
      "image/png": "[encoded data removed]",
      "text/plain": [
       "<Figure size 864x288 with 1 Axes>"
      ]
     },
     "metadata": {
      "needs_background": "light"
     },
     "output_type": "display_data"
    }
   ],
   "source": [
    "for name, alg in algorithms.items():\n",
    "\tplot_learning_curves(name, alg)"
   ]
  },
  {
   "cell_type": "code",
   "execution_count": 30,
   "metadata": {},
   "outputs": [],
   "source": [
    "#model training\n",
    "model = Pipeline(steps=[\n",
    "\t(\"pre\", preprocessor),\n",
    "\t(\"rf\", RandomForestRegressor(n_estimators=10))\n",
    "])"
   ]
  },
  {
   "cell_type": "code",
   "execution_count": 31,
   "metadata": {},
   "outputs": [
    {
     "data": {
      "text/plain": [
       "Pipeline(steps=[('pre',\n",
       "                 ColumnTransformer(transformers=[('num',\n",
       "                                                  Pipeline(steps=[('imputer',\n",
       "                                                                   SimpleImputer(strategy='median')),\n",
       "                                                                  ('scaler',\n",
       "                                                                   StandardScaler())]),\n",
       "                                                  ['duration', 'total_stops']),\n",
       "                                                 ('cat',\n",
       "                                                  Pipeline(steps=[('imputer',\n",
       "                                                                   SimpleImputer(strategy='most_frequent')),\n",
       "                                                                  ('encoder',\n",
       "                                                                   OneHotEncoder(handle_unknown='ignore',\n",
       "                                                                                 sparse=False))]),\n",
       "                                                  ['airline', 'source',\n",
       "                                                   'destina...\n",
       "                                                                   DatetimeFeatures(features_to_extract=['month',\n",
       "                                                                                                         'week',\n",
       "                                                                                                         'day_of_week',\n",
       "                                                                                                         'day_of_month'])),\n",
       "                                                                  ('scaler',\n",
       "                                                                   StandardScaler())]),\n",
       "                                                  ['date_of_journey']),\n",
       "                                                 ('time',\n",
       "                                                  Pipeline(steps=[('imputer',\n",
       "                                                                   SimpleImputer(strategy='most_frequent')),\n",
       "                                                                  ('extractor',\n",
       "                                                                   DatetimeFeatures(features_to_extract=['hour',\n",
       "                                                                                                         'minute'])),\n",
       "                                                                  ('scaler',\n",
       "                                                                   StandardScaler())]),\n",
       "                                                  ['dep_time',\n",
       "                                                   'arrival_time'])])),\n",
       "                ('rf', RandomForestRegressor(n_estimators=10))])"
      ]
     },
     "execution_count": 31,
     "metadata": {},
     "output_type": "execute_result"
    }
   ],
   "source": [
    "model.fit(X_data, y_data)"
   ]
  },
  {
   "cell_type": "code",
   "execution_count": 32,
   "metadata": {},
   "outputs": [],
   "source": [
    "#model evaluation\n",
    "def evaluate_model(X, y):\n",
    "\ty_pred = model.predict(X)\n",
    "\treturn r2_score(y, y_pred)"
   ]
  },
  {
   "cell_type": "code",
   "execution_count": 33,
   "metadata": {},
   "outputs": [
    {
     "name": "stdout",
     "output_type": "stream",
     "text": [
      "R2 score on Training data is = 0.9528340740715042\n"
     ]
    }
   ],
   "source": [
    "print(f\"R2 score on Training data is = {evaluate_model(X_data, y_data)}\")"
   ]
  },
  {
   "cell_type": "code",
   "execution_count": 36,
   "metadata": {},
   "outputs": [
    {
     "name": "stdout",
     "output_type": "stream",
     "text": [
      "R2 score on Test data is = 0.6545935401792888\n"
     ]
    }
   ],
   "source": [
    "print(f\"R2 score on Test data is = {evaluate_model(X_test, Y_test)}\")"
   ]
  },
  {
   "cell_type": "code",
   "execution_count": 37,
   "metadata": {},
   "outputs": [
    {
     "data": {
      "text/plain": [
       "['model.joblib']"
      ]
     },
     "execution_count": 37,
     "metadata": {},
     "output_type": "execute_result"
    }
   ],
   "source": [
    "#model persistence\n",
    "joblib.dump(model,\"model.joblib\")"
   ]
  },
  {
   "cell_type": "code",
   "execution_count": 38,
   "metadata": {},
   "outputs": [
    {
     "data": {
      "text/plain": [
       "Pipeline(steps=[('pre',\n",
       "                 ColumnTransformer(transformers=[('num',\n",
       "                                                  Pipeline(steps=[('imputer',\n",
       "                                                                   SimpleImputer(strategy='median')),\n",
       "                                                                  ('scaler',\n",
       "                                                                   StandardScaler())]),\n",
       "                                                  ['duration', 'total_stops']),\n",
       "                                                 ('cat',\n",
       "                                                  Pipeline(steps=[('imputer',\n",
       "                                                                   SimpleImputer(strategy='most_frequent')),\n",
       "                                                                  ('encoder',\n",
       "                                                                   OneHotEncoder(handle_unknown='ignore',\n",
       "                                                                                 sparse=False))]),\n",
       "                                                  ['airline', 'source',\n",
       "                                                   'destina...\n",
       "                                                                   DatetimeFeatures(features_to_extract=['month',\n",
       "                                                                                                         'week',\n",
       "                                                                                                         'day_of_week',\n",
       "                                                                                                         'day_of_month'])),\n",
       "                                                                  ('scaler',\n",
       "                                                                   StandardScaler())]),\n",
       "                                                  ['date_of_journey']),\n",
       "                                                 ('time',\n",
       "                                                  Pipeline(steps=[('imputer',\n",
       "                                                                   SimpleImputer(strategy='most_frequent')),\n",
       "                                                                  ('extractor',\n",
       "                                                                   DatetimeFeatures(features_to_extract=['hour',\n",
       "                                                                                                         'minute'])),\n",
       "                                                                  ('scaler',\n",
       "                                                                   StandardScaler())]),\n",
       "                                                  ['dep_time',\n",
       "                                                   'arrival_time'])])),\n",
       "                ('rf', RandomForestRegressor(n_estimators=10))])"
      ]
     },
     "execution_count": 38,
     "metadata": {},
     "output_type": "execute_result"
    }
   ],
   "source": [
    "saved_model = joblib.load(\"model.joblib\")\n",
    "saved_model"
   ]
  },
  {
   "cell_type": "code",
   "execution_count": 39,
   "metadata": {},
   "outputs": [
    {
     "data": {
      "text/plain": [
       "0.6545935401792888"
      ]
     },
     "execution_count": 39,
     "metadata": {},
     "output_type": "execute_result"
    }
   ],
   "source": [
    "y_pred = saved_model.predict(X_test)\n",
    "\n",
    "r2_score(Y_test,y_pred)"
   ]
  },
  {
   "cell_type": "code",
   "execution_count": null,
   "metadata": {},
   "outputs": [],
   "source": []
  }
 ],
 "metadata": {
  "kernelspec": {
   "display_name": "Python 3",
   "language": "python",
   "name": "python3"
  },
  "language_info": {
   "codemirror_mode": {
    "name": "ipython",
    "version": 3
   },
   "file_extension": ".py",
   "mimetype": "text/x-python",
   "name": "python",
   "nbconvert_exporter": "python",
   "pygments_lexer": "ipython3",
   "version": "3.6.9"
  }
 },
 "nbformat": 4,
 "nbformat_minor": 2
}
